{
 "cells": [
  {
   "cell_type": "code",
   "execution_count": 1,
   "id": "b552fe50",
   "metadata": {},
   "outputs": [],
   "source": [
    "# importing necessary libraries\n",
    "\n",
    "import pandas as pd\n",
    "import numpy as np\n",
    "import matplotlib.pyplot as plt\n",
    "%matplotlib inline\n",
    "import seaborn as sns"
   ]
  },
  {
   "cell_type": "code",
   "execution_count": 2,
   "id": "64abcaa4",
   "metadata": {},
   "outputs": [
    {
     "data": {
      "text/html": [
       "<div>\n",
       "<style scoped>\n",
       "    .dataframe tbody tr th:only-of-type {\n",
       "        vertical-align: middle;\n",
       "    }\n",
       "\n",
       "    .dataframe tbody tr th {\n",
       "        vertical-align: top;\n",
       "    }\n",
       "\n",
       "    .dataframe thead th {\n",
       "        text-align: right;\n",
       "    }\n",
       "</style>\n",
       "<table border=\"1\" class=\"dataframe\">\n",
       "  <thead>\n",
       "    <tr style=\"text-align: right;\">\n",
       "      <th></th>\n",
       "      <th>vendor_id</th>\n",
       "      <th>passenger_count</th>\n",
       "      <th>pickup_longitude</th>\n",
       "      <th>pickup_latitude</th>\n",
       "      <th>dropoff_longitude</th>\n",
       "      <th>dropoff_latitude</th>\n",
       "      <th>trip_duration</th>\n",
       "      <th>weekday</th>\n",
       "      <th>hour_of_day</th>\n",
       "      <th>month</th>\n",
       "      <th>store_and_fwd_flag_N</th>\n",
       "      <th>store_and_fwd_flag_Y</th>\n",
       "    </tr>\n",
       "  </thead>\n",
       "  <tbody>\n",
       "    <tr>\n",
       "      <th>0</th>\n",
       "      <td>2</td>\n",
       "      <td>1</td>\n",
       "      <td>-73.953918</td>\n",
       "      <td>40.778873</td>\n",
       "      <td>-73.963875</td>\n",
       "      <td>40.771164</td>\n",
       "      <td>400.0</td>\n",
       "      <td>0</td>\n",
       "      <td>16</td>\n",
       "      <td>2</td>\n",
       "      <td>1</td>\n",
       "      <td>0</td>\n",
       "    </tr>\n",
       "    <tr>\n",
       "      <th>1</th>\n",
       "      <td>1</td>\n",
       "      <td>2</td>\n",
       "      <td>-73.988312</td>\n",
       "      <td>40.731743</td>\n",
       "      <td>-73.994751</td>\n",
       "      <td>40.694931</td>\n",
       "      <td>1100.0</td>\n",
       "      <td>4</td>\n",
       "      <td>23</td>\n",
       "      <td>3</td>\n",
       "      <td>1</td>\n",
       "      <td>0</td>\n",
       "    </tr>\n",
       "    <tr>\n",
       "      <th>2</th>\n",
       "      <td>2</td>\n",
       "      <td>2</td>\n",
       "      <td>-73.997314</td>\n",
       "      <td>40.721458</td>\n",
       "      <td>-73.948029</td>\n",
       "      <td>40.774918</td>\n",
       "      <td>1635.0</td>\n",
       "      <td>6</td>\n",
       "      <td>17</td>\n",
       "      <td>2</td>\n",
       "      <td>1</td>\n",
       "      <td>0</td>\n",
       "    </tr>\n",
       "    <tr>\n",
       "      <th>3</th>\n",
       "      <td>2</td>\n",
       "      <td>6</td>\n",
       "      <td>-73.961670</td>\n",
       "      <td>40.759720</td>\n",
       "      <td>-73.956779</td>\n",
       "      <td>40.780628</td>\n",
       "      <td>1141.0</td>\n",
       "      <td>1</td>\n",
       "      <td>9</td>\n",
       "      <td>1</td>\n",
       "      <td>1</td>\n",
       "      <td>0</td>\n",
       "    </tr>\n",
       "    <tr>\n",
       "      <th>4</th>\n",
       "      <td>1</td>\n",
       "      <td>1</td>\n",
       "      <td>-74.017120</td>\n",
       "      <td>40.708469</td>\n",
       "      <td>-73.988182</td>\n",
       "      <td>40.740631</td>\n",
       "      <td>848.0</td>\n",
       "      <td>2</td>\n",
       "      <td>6</td>\n",
       "      <td>2</td>\n",
       "      <td>1</td>\n",
       "      <td>0</td>\n",
       "    </tr>\n",
       "  </tbody>\n",
       "</table>\n",
       "</div>"
      ],
      "text/plain": [
       "   vendor_id  passenger_count  pickup_longitude  pickup_latitude  \\\n",
       "0          2                1        -73.953918        40.778873   \n",
       "1          1                2        -73.988312        40.731743   \n",
       "2          2                2        -73.997314        40.721458   \n",
       "3          2                6        -73.961670        40.759720   \n",
       "4          1                1        -74.017120        40.708469   \n",
       "\n",
       "   dropoff_longitude  dropoff_latitude  trip_duration  weekday  hour_of_day  \\\n",
       "0         -73.963875         40.771164          400.0        0           16   \n",
       "1         -73.994751         40.694931         1100.0        4           23   \n",
       "2         -73.948029         40.774918         1635.0        6           17   \n",
       "3         -73.956779         40.780628         1141.0        1            9   \n",
       "4         -73.988182         40.740631          848.0        2            6   \n",
       "\n",
       "   month  store_and_fwd_flag_N  store_and_fwd_flag_Y  \n",
       "0      2                     1                     0  \n",
       "1      3                     1                     0  \n",
       "2      2                     1                     0  \n",
       "3      1                     1                     0  \n",
       "4      2                     1                     0  "
      ]
     },
     "execution_count": 2,
     "metadata": {},
     "output_type": "execute_result"
    }
   ],
   "source": [
    "df = pd.read_csv('cleaned_df.csv')\n",
    "df.head()"
   ]
  },
  {
   "cell_type": "code",
   "execution_count": 3,
   "id": "aaaf4f12",
   "metadata": {},
   "outputs": [
    {
     "data": {
      "text/plain": [
       "((729287, 11), (729287,))"
      ]
     },
     "execution_count": 3,
     "metadata": {},
     "output_type": "execute_result"
    }
   ],
   "source": [
    "# Seperating the dependent and independent variables\n",
    "x = df.drop(['trip_duration'] , axis = 1)\n",
    "y = df['trip_duration']\n",
    "x.shape , y.shape"
   ]
  },
  {
   "cell_type": "code",
   "execution_count": 4,
   "id": "15c6c20b",
   "metadata": {},
   "outputs": [],
   "source": [
    "# Scaling our data\n",
    "from sklearn.preprocessing import StandardScaler\n",
    "ss = StandardScaler()\n",
    "x_scaled = ss.fit_transform(x)"
   ]
  },
  {
   "cell_type": "code",
   "execution_count": 5,
   "id": "2b7cce5a",
   "metadata": {},
   "outputs": [
    {
     "data": {
      "text/html": [
       "<div>\n",
       "<style scoped>\n",
       "    .dataframe tbody tr th:only-of-type {\n",
       "        vertical-align: middle;\n",
       "    }\n",
       "\n",
       "    .dataframe tbody tr th {\n",
       "        vertical-align: top;\n",
       "    }\n",
       "\n",
       "    .dataframe thead th {\n",
       "        text-align: right;\n",
       "    }\n",
       "</style>\n",
       "<table border=\"1\" class=\"dataframe\">\n",
       "  <thead>\n",
       "    <tr style=\"text-align: right;\">\n",
       "      <th></th>\n",
       "      <th>vendor_id</th>\n",
       "      <th>passenger_count</th>\n",
       "      <th>pickup_longitude</th>\n",
       "      <th>pickup_latitude</th>\n",
       "      <th>dropoff_longitude</th>\n",
       "      <th>dropoff_latitude</th>\n",
       "      <th>weekday</th>\n",
       "      <th>hour_of_day</th>\n",
       "      <th>month</th>\n",
       "      <th>store_and_fwd_flag_N</th>\n",
       "      <th>store_and_fwd_flag_Y</th>\n",
       "    </tr>\n",
       "  </thead>\n",
       "  <tbody>\n",
       "    <tr>\n",
       "      <th>0</th>\n",
       "      <td>0.931525</td>\n",
       "      <td>-0.504511</td>\n",
       "      <td>0.280923</td>\n",
       "      <td>0.832137</td>\n",
       "      <td>0.137202</td>\n",
       "      <td>0.538016</td>\n",
       "      <td>-1.560050</td>\n",
       "      <td>0.372987</td>\n",
       "      <td>-0.903481</td>\n",
       "      <td>0.074617</td>\n",
       "      <td>-0.074617</td>\n",
       "    </tr>\n",
       "    <tr>\n",
       "      <th>1</th>\n",
       "      <td>-1.073508</td>\n",
       "      <td>0.257461</td>\n",
       "      <td>-0.212147</td>\n",
       "      <td>-0.570858</td>\n",
       "      <td>-0.306501</td>\n",
       "      <td>-1.577473</td>\n",
       "      <td>0.486556</td>\n",
       "      <td>1.466272</td>\n",
       "      <td>-0.308476</td>\n",
       "      <td>0.074617</td>\n",
       "      <td>-0.074617</td>\n",
       "    </tr>\n",
       "    <tr>\n",
       "      <th>2</th>\n",
       "      <td>0.931525</td>\n",
       "      <td>0.257461</td>\n",
       "      <td>-0.341211</td>\n",
       "      <td>-0.877008</td>\n",
       "      <td>0.364919</td>\n",
       "      <td>0.642181</td>\n",
       "      <td>1.509859</td>\n",
       "      <td>0.529170</td>\n",
       "      <td>-0.903481</td>\n",
       "      <td>0.074617</td>\n",
       "      <td>-0.074617</td>\n",
       "    </tr>\n",
       "    <tr>\n",
       "      <th>3</th>\n",
       "      <td>0.931525</td>\n",
       "      <td>3.305345</td>\n",
       "      <td>0.169797</td>\n",
       "      <td>0.261968</td>\n",
       "      <td>0.239165</td>\n",
       "      <td>0.800652</td>\n",
       "      <td>-1.048398</td>\n",
       "      <td>-0.720298</td>\n",
       "      <td>-1.498486</td>\n",
       "      <td>0.074617</td>\n",
       "      <td>-0.074617</td>\n",
       "    </tr>\n",
       "    <tr>\n",
       "      <th>4</th>\n",
       "      <td>-1.073508</td>\n",
       "      <td>-0.504511</td>\n",
       "      <td>-0.625153</td>\n",
       "      <td>-1.263669</td>\n",
       "      <td>-0.212103</td>\n",
       "      <td>-0.309281</td>\n",
       "      <td>-0.536747</td>\n",
       "      <td>-1.188849</td>\n",
       "      <td>-0.903481</td>\n",
       "      <td>0.074617</td>\n",
       "      <td>-0.074617</td>\n",
       "    </tr>\n",
       "  </tbody>\n",
       "</table>\n",
       "</div>"
      ],
      "text/plain": [
       "   vendor_id  passenger_count  pickup_longitude  pickup_latitude  \\\n",
       "0   0.931525        -0.504511          0.280923         0.832137   \n",
       "1  -1.073508         0.257461         -0.212147        -0.570858   \n",
       "2   0.931525         0.257461         -0.341211        -0.877008   \n",
       "3   0.931525         3.305345          0.169797         0.261968   \n",
       "4  -1.073508        -0.504511         -0.625153        -1.263669   \n",
       "\n",
       "   dropoff_longitude  dropoff_latitude   weekday  hour_of_day     month  \\\n",
       "0           0.137202          0.538016 -1.560050     0.372987 -0.903481   \n",
       "1          -0.306501         -1.577473  0.486556     1.466272 -0.308476   \n",
       "2           0.364919          0.642181  1.509859     0.529170 -0.903481   \n",
       "3           0.239165          0.800652 -1.048398    -0.720298 -1.498486   \n",
       "4          -0.212103         -0.309281 -0.536747    -1.188849 -0.903481   \n",
       "\n",
       "   store_and_fwd_flag_N  store_and_fwd_flag_Y  \n",
       "0              0.074617             -0.074617  \n",
       "1              0.074617             -0.074617  \n",
       "2              0.074617             -0.074617  \n",
       "3              0.074617             -0.074617  \n",
       "4              0.074617             -0.074617  "
      ]
     },
     "execution_count": 5,
     "metadata": {},
     "output_type": "execute_result"
    }
   ],
   "source": [
    "x = pd.DataFrame(x_scaled , columns = x.columns)\n",
    "x.head()"
   ]
  },
  {
   "cell_type": "code",
   "execution_count": 6,
   "id": "95927eb3",
   "metadata": {},
   "outputs": [],
   "source": [
    "# forming the train and test data from our dataset\n",
    "\n",
    "from sklearn.model_selection import train_test_split\n",
    "train_x , test_x , train_y , test_y = train_test_split(x,y , random_state = 100)"
   ]
  },
  {
   "cell_type": "code",
   "execution_count": 7,
   "id": "e9dc1dae",
   "metadata": {},
   "outputs": [],
   "source": [
    "from sklearn.linear_model import LinearRegression\n",
    "from sklearn.metrics import mean_squared_error as mse"
   ]
  },
  {
   "cell_type": "code",
   "execution_count": 8,
   "id": "57b06fe9",
   "metadata": {},
   "outputs": [
    {
     "data": {
      "text/plain": [
       "LinearRegression()"
      ]
     },
     "execution_count": 8,
     "metadata": {},
     "output_type": "execute_result"
    }
   ],
   "source": [
    "lr = LinearRegression()\n",
    "lr.fit(train_x , train_y)"
   ]
  },
  {
   "cell_type": "code",
   "execution_count": 9,
   "id": "4de98870",
   "metadata": {},
   "outputs": [
    {
     "name": "stdout",
     "output_type": "stream",
     "text": [
      "RMSE of model is:  592.1139123723932\n"
     ]
    }
   ],
   "source": [
    "#predicting over the test_data\n",
    "\n",
    "test_pred = lr.predict(test_x)\n",
    "k = np.sqrt(mse(test_pred , test_y))\n",
    "print('RMSE of model is: ' , k)"
   ]
  },
  {
   "cell_type": "markdown",
   "id": "7e49e047",
   "metadata": {},
   "source": [
    "# Regularizing the data"
   ]
  },
  {
   "cell_type": "markdown",
   "id": "b572a698",
   "metadata": {},
   "source": [
    "Lasso Regression"
   ]
  },
  {
   "cell_type": "code",
   "execution_count": 10,
   "id": "570afde1",
   "metadata": {},
   "outputs": [
    {
     "name": "stderr",
     "output_type": "stream",
     "text": [
      "C:\\Users\\amitb\\anaconda3\\lib\\site-packages\\sklearn\\linear_model\\_base.py:141: FutureWarning: 'normalize' was deprecated in version 1.0 and will be removed in 1.2.\n",
      "If you wish to scale the data, use Pipeline with a StandardScaler in a preprocessing stage. To reproduce the previous behavior:\n",
      "\n",
      "from sklearn.pipeline import make_pipeline\n",
      "\n",
      "model = make_pipeline(StandardScaler(with_mean=False), Lasso())\n",
      "\n",
      "If you wish to pass a sample_weight parameter, you need to pass it as a fit parameter to each step of the pipeline as follows:\n",
      "\n",
      "kwargs = {s[0] + '__sample_weight': sample_weight for s in model.steps}\n",
      "model.fit(X, y, **kwargs)\n",
      "\n",
      "Set parameter alpha to: original_alpha * np.sqrt(n_samples). \n",
      "  warnings.warn(\n"
     ]
    },
    {
     "data": {
      "text/plain": [
       "Lasso(alpha=0.0001, normalize=True, tol=1e-05)"
      ]
     },
     "execution_count": 10,
     "metadata": {},
     "output_type": "execute_result"
    }
   ],
   "source": [
    "from sklearn import linear_model\n",
    "lasso_reg = linear_model.Lasso(alpha = 0.0001, normalize = True , max_iter = 1000 , tol = 0.00001)\n",
    "lasso_reg.fit(train_x , train_y)"
   ]
  },
  {
   "cell_type": "code",
   "execution_count": 11,
   "id": "77316a23",
   "metadata": {},
   "outputs": [],
   "source": [
    "# These are the best parameters of lasso model"
   ]
  },
  {
   "cell_type": "code",
   "execution_count": 12,
   "id": "5c5674de",
   "metadata": {},
   "outputs": [
    {
     "name": "stdout",
     "output_type": "stream",
     "text": [
      "RMSE of lasso model of train data :  599.9706327803192\n"
     ]
    }
   ],
   "source": [
    "train_pred = lasso_reg.predict(train_x)\n",
    "mean_train_error = np.sqrt(mse(train_pred , train_y))\n",
    "print('RMSE of lasso model of train data : ' , mean_train_error)"
   ]
  },
  {
   "cell_type": "code",
   "execution_count": 13,
   "id": "16abcefd",
   "metadata": {},
   "outputs": [
    {
     "name": "stdout",
     "output_type": "stream",
     "text": [
      "RMSE of lasso model on test data : 592.1100324545318\n"
     ]
    }
   ],
   "source": [
    "test_pred = lasso_reg.predict(test_x)\n",
    "mean_test_error = np.sqrt(mse(test_pred , test_y))\n",
    "print('RMSE of lasso model on test data :' , mean_test_error)"
   ]
  },
  {
   "cell_type": "markdown",
   "id": "819a1a62",
   "metadata": {},
   "source": [
    "Ridge Regression "
   ]
  },
  {
   "cell_type": "code",
   "execution_count": 17,
   "id": "5d2493a5",
   "metadata": {},
   "outputs": [
    {
     "name": "stderr",
     "output_type": "stream",
     "text": [
      "C:\\Users\\amitb\\anaconda3\\lib\\site-packages\\sklearn\\linear_model\\_base.py:141: FutureWarning: 'normalize' was deprecated in version 1.0 and will be removed in 1.2.\n",
      "If you wish to scale the data, use Pipeline with a StandardScaler in a preprocessing stage. To reproduce the previous behavior:\n",
      "\n",
      "from sklearn.pipeline import make_pipeline\n",
      "\n",
      "model = make_pipeline(StandardScaler(with_mean=False), Ridge())\n",
      "\n",
      "If you wish to pass a sample_weight parameter, you need to pass it as a fit parameter to each step of the pipeline as follows:\n",
      "\n",
      "kwargs = {s[0] + '__sample_weight': sample_weight for s in model.steps}\n",
      "model.fit(X, y, **kwargs)\n",
      "\n",
      "Set parameter alpha to: original_alpha * n_samples. \n",
      "  warnings.warn(\n"
     ]
    },
    {
     "data": {
      "text/plain": [
       "Ridge(alpha=0.01, max_iter=1000, normalize=True, tol=1e-05)"
      ]
     },
     "execution_count": 17,
     "metadata": {},
     "output_type": "execute_result"
    }
   ],
   "source": [
    "from sklearn.linear_model import Ridge\n",
    "ridge_reg = Ridge(alpha = 0.01 , normalize = True , max_iter = 1000 , tol = 0.00001)\n",
    "ridge_reg.fit(train_x , train_y)"
   ]
  },
  {
   "cell_type": "code",
   "execution_count": 18,
   "id": "6daa6bdf",
   "metadata": {},
   "outputs": [],
   "source": [
    "# These are the best hyperparameters of ridge regression."
   ]
  },
  {
   "cell_type": "code",
   "execution_count": 19,
   "id": "c8cc60db",
   "metadata": {},
   "outputs": [
    {
     "name": "stdout",
     "output_type": "stream",
     "text": [
      "RMSE of ridge model of train data : 599.9793776344706\n"
     ]
    }
   ],
   "source": [
    "train_pred = ridge_reg.predict(train_x)\n",
    "mean_train_error = np.sqrt(mse(train_pred , train_y))\n",
    "print('RMSE of ridge model of train data :' ,mean_train_error)"
   ]
  },
  {
   "cell_type": "code",
   "execution_count": 20,
   "id": "f4be3aca",
   "metadata": {},
   "outputs": [
    {
     "name": "stdout",
     "output_type": "stream",
     "text": [
      "RMSE of ridge model of test data 592.2388444739155\n"
     ]
    }
   ],
   "source": [
    "test_pred = ridge_reg.predict(test_x)\n",
    "mean_test_error = np.sqrt(mse(test_pred , test_y))\n",
    "print('RMSE of ridge model of test data' , mean_test_error)"
   ]
  },
  {
   "cell_type": "markdown",
   "id": "7edf8e85",
   "metadata": {},
   "source": [
    "Let us check for parameters of Linear Regression:\n"
   ]
  },
  {
   "cell_type": "code",
   "execution_count": 21,
   "id": "8471b409",
   "metadata": {},
   "outputs": [
    {
     "data": {
      "text/plain": [
       "array([ 6.56002819e+00,  8.62956525e+00,  1.41864623e+02, -8.16710074e+01,\n",
       "       -3.52234433e+01, -7.04600442e+01, -2.09989187e+01,  1.74536100e+01,\n",
       "        3.68528371e+01,  2.78355685e+14,  2.78355685e+14])"
      ]
     },
     "execution_count": 21,
     "metadata": {},
     "output_type": "execute_result"
    }
   ],
   "source": [
    "lr.coef_"
   ]
  },
  {
   "cell_type": "code",
   "execution_count": 24,
   "id": "26887fc2",
   "metadata": {},
   "outputs": [
    {
     "data": {
      "text/plain": [
       "(182322, 3)"
      ]
     },
     "execution_count": 24,
     "metadata": {},
     "output_type": "execute_result"
    }
   ],
   "source": [
    "# Arranging and calculating the residuals\n",
    "\n",
    "residuals = pd.DataFrame({\n",
    "    'fitted values': test_y,\n",
    "    'predicted values': test_pred\n",
    "})\n",
    "\n",
    "residuals['residuals'] = residuals['fitted values'] - residuals['predicted values']\n",
    "residuals.shape"
   ]
  },
  {
   "cell_type": "code",
   "execution_count": 25,
   "id": "0121f3e3",
   "metadata": {},
   "outputs": [
    {
     "data": {
      "text/plain": [
       "<matplotlib.legend.Legend at 0x12206cfbd90>"
      ]
     },
     "execution_count": 25,
     "metadata": {},
     "output_type": "execute_result"
    },
    {
     "data": {
      "image/png": "[encoded data removed]",
      "text/plain": [
       "<Figure size 864x576 with 1 Axes>"
      ]
     },
     "metadata": {
      "needs_background": "light"
     },
     "output_type": "display_data"
    }
   ],
   "source": [
    "# plotting the residuals curve and checking for constant variance\n",
    "\n",
    "plt.figure(figsize = (12,8))\n",
    "f = range(0,182322)\n",
    "k = [0 for i in range(0 , 182322)]\n",
    "plt.scatter(f , residuals.residuals[:] , label = 'residuals')\n",
    "plt.plot(f,k,color = 'r' , label = 'regression_line')\n",
    "plt.xlabel('fitted points')\n",
    "plt.ylabel('residuals')\n",
    "plt.title('Residual plot')\n",
    "plt.ylim(-4000 , 4000)\n",
    "plt.legend()"
   ]
  },
  {
   "cell_type": "code",
   "execution_count": 27,
   "id": "70a5fcf5",
   "metadata": {},
   "outputs": [],
   "source": [
    "# There is no pattern or variance in the dataset. The Dataset is nearly constant."
   ]
  },
  {
   "cell_type": "code",
   "execution_count": 28,
   "id": "b2f96b6b",
   "metadata": {},
   "outputs": [
    {
     "data": {
      "text/plain": [
       "Text(0.5, 1.0, 'Distribution of error terms')"
      ]
     },
     "execution_count": 28,
     "metadata": {},
     "output_type": "execute_result"
    },
    {
     "data": {
      "image/png": "[encoded data removed]",
      "text/plain": [
       "<Figure size 864x576 with 1 Axes>"
      ]
     },
     "metadata": {
      "needs_background": "light"
     },
     "output_type": "display_data"
    }
   ],
   "source": [
    "# Checking the distributions of residuals\n",
    "\n",
    "plt.figure(figsize = (12,8))\n",
    "plt.hist(residuals.residuals , bins = 1000)\n",
    "plt.xlabel('Error')\n",
    "plt.ylabel('Frequency')\n",
    "plt.title('Distribution of error terms')"
   ]
  },
  {
   "cell_type": "code",
   "execution_count": 29,
   "id": "d38414db",
   "metadata": {},
   "outputs": [],
   "source": [
    "# Most of our data is entered around 0, there are some large values but not too high though."
   ]
  },
  {
   "cell_type": "code",
   "execution_count": 30,
   "id": "8e9bfceb",
   "metadata": {},
   "outputs": [
    {
     "data": {
      "text/plain": [
       "Text(0.5, 1.0, 'Checking distributions of Residual Errors')"
      ]
     },
     "execution_count": 30,
     "metadata": {},
     "output_type": "execute_result"
    },
    {
     "data": {
      "image/png": "[encoded data removed]",
      "text/plain": [
       "<Figure size 1200x960 with 1 Axes>"
      ]
     },
     "metadata": {
      "needs_background": "light"
     },
     "output_type": "display_data"
    }
   ],
   "source": [
    "# Importing qq plot and checking for linear relationship of our data.\n",
    "\n",
    "from statsmodels.graphics.gofplots import qqplot\n",
    "\n",
    "fig , ax = plt.subplots(figsize = (10,8) , dpi = 120)\n",
    "qqplot(residuals.residuals , line ='s' , ax = ax)\n",
    "plt.xlabel('Ideal Scaled Quantiles')\n",
    "plt.ylabel('Residual Quantiles')\n",
    "plt.title('Checking distributions of Residual Errors')"
   ]
  },
  {
   "cell_type": "code",
   "execution_count": 31,
   "id": "19d98bd1",
   "metadata": {},
   "outputs": [],
   "source": [
    "# Yeah most of our data is linear. There are very few outliers."
   ]
  },
  {
   "cell_type": "code",
   "execution_count": 32,
   "id": "f7343288",
   "metadata": {},
   "outputs": [],
   "source": [
    "# Now lets check for multicollinearity using Variance Inflation Factor(VIF)"
   ]
  },
  {
   "cell_type": "code",
   "execution_count": 33,
   "id": "d53ce837",
   "metadata": {},
   "outputs": [
    {
     "data": {
      "text/plain": [
       "vendor_id               1.096377e+00\n",
       "passenger_count         1.090525e+00\n",
       "pickup_longitude        2.650694e+00\n",
       "pickup_latitude         1.335037e+00\n",
       "dropoff_longitude       2.618452e+00\n",
       "dropoff_latitude        1.330424e+00\n",
       "trip_duration           1.103229e+00\n",
       "weekday                 1.010263e+00\n",
       "hour_of_day             1.010530e+00\n",
       "month                   1.004018e+00\n",
       "store_and_fwd_flag_N    3.898855e+06\n",
       "store_and_fwd_flag_Y    2.170571e+04\n",
       "dtype: float64"
      ]
     },
     "execution_count": 33,
     "metadata": {},
     "output_type": "execute_result"
    }
   ],
   "source": [
    "from statsmodels.stats.outliers_influence import variance_inflation_factor\n",
    "from statsmodels.tools.tools import add_constant\n",
    "\n",
    "# Calculating VIF for every column(it works only for non categorical)\n",
    "VIF = pd.Series([variance_inflation_factor(df.values , i) for i in range(df.shape[1])] , index = df.columns)\n",
    "VIF"
   ]
  },
  {
   "cell_type": "markdown",
   "id": "773d35f1",
   "metadata": {},
   "source": [
    "From this list , we can clearly see that their is no independent variable that has its value over 5,\n",
    "which means that there are no features that exhibit Multicollinearity in the dataset."
   ]
  },
  {
   "cell_type": "code",
   "execution_count": 34,
   "id": "748e868b",
   "metadata": {},
   "outputs": [
    {
     "name": "stderr",
     "output_type": "stream",
     "text": [
      "C:\\Users\\amitb\\anaconda3\\lib\\site-packages\\sklearn\\linear_model\\_base.py:141: FutureWarning: 'normalize' was deprecated in version 1.0 and will be removed in 1.2.\n",
      "If you wish to scale the data, use Pipeline with a StandardScaler in a preprocessing stage. To reproduce the previous behavior:\n",
      "\n",
      "from sklearn.pipeline import make_pipeline\n",
      "\n",
      "model = make_pipeline(StandardScaler(with_mean=False), LinearRegression())\n",
      "\n",
      "If you wish to pass a sample_weight parameter, you need to pass it as a fit parameter to each step of the pipeline as follows:\n",
      "\n",
      "kwargs = {s[0] + '__sample_weight': sample_weight for s in model.steps}\n",
      "model.fit(X, y, **kwargs)\n",
      "\n",
      "\n",
      "  warnings.warn(\n"
     ]
    },
    {
     "data": {
      "text/plain": [
       "LinearRegression(normalize=True)"
      ]
     },
     "execution_count": 34,
     "metadata": {},
     "output_type": "execute_result"
    }
   ],
   "source": [
    "# now lets normalize the data and then interpret its output.\n",
    "\n",
    "lr = LinearRegression(normalize = True)\n",
    "# fitting the model\n",
    "lr.fit(train_x , train_y)"
   ]
  },
  {
   "cell_type": "code",
   "execution_count": 35,
   "id": "f3c2d43a",
   "metadata": {},
   "outputs": [
    {
     "name": "stdout",
     "output_type": "stream",
     "text": [
      "RMSE after normalizing the data 592.0999304651102\n"
     ]
    }
   ],
   "source": [
    "test_pred = lr.predict(test_x)\n",
    "k = np.sqrt(mse(test_pred , test_y))\n",
    "print('RMSE after normalizing the data' , k)"
   ]
  },
  {
   "cell_type": "markdown",
   "id": "afc7f928",
   "metadata": {},
   "source": [
    "Let us remove the coffecients that are very small close to zero and again plot the model."
   ]
  },
  {
   "cell_type": "code",
   "execution_count": 38,
   "id": "72962f71",
   "metadata": {},
   "outputs": [
    {
     "data": {
      "text/plain": [
       "((729287, 11), (729287,))"
      ]
     },
     "execution_count": 38,
     "metadata": {},
     "output_type": "execute_result"
    }
   ],
   "source": [
    "# separating independent and dependent variables\n",
    "x = df.drop(['trip_duration'] , axis = 1)\n",
    "y = df['trip_duration']\n",
    "x.shape , y.shape"
   ]
  },
  {
   "cell_type": "code",
   "execution_count": 39,
   "id": "757e24a0",
   "metadata": {},
   "outputs": [
    {
     "data": {
      "text/html": [
       "<div>\n",
       "<style scoped>\n",
       "    .dataframe tbody tr th:only-of-type {\n",
       "        vertical-align: middle;\n",
       "    }\n",
       "\n",
       "    .dataframe tbody tr th {\n",
       "        vertical-align: top;\n",
       "    }\n",
       "\n",
       "    .dataframe thead th {\n",
       "        text-align: right;\n",
       "    }\n",
       "</style>\n",
       "<table border=\"1\" class=\"dataframe\">\n",
       "  <thead>\n",
       "    <tr style=\"text-align: right;\">\n",
       "      <th></th>\n",
       "      <th>Variable</th>\n",
       "      <th>coffecients</th>\n",
       "    </tr>\n",
       "  </thead>\n",
       "  <tbody>\n",
       "    <tr>\n",
       "      <th>0</th>\n",
       "      <td>vendor_id</td>\n",
       "      <td>6.548839</td>\n",
       "    </tr>\n",
       "    <tr>\n",
       "      <th>1</th>\n",
       "      <td>passenger_count</td>\n",
       "      <td>8.616035</td>\n",
       "    </tr>\n",
       "    <tr>\n",
       "      <th>2</th>\n",
       "      <td>pickup_longitude</td>\n",
       "      <td>141.958899</td>\n",
       "    </tr>\n",
       "    <tr>\n",
       "      <th>3</th>\n",
       "      <td>pickup_latitude</td>\n",
       "      <td>-81.825674</td>\n",
       "    </tr>\n",
       "    <tr>\n",
       "      <th>4</th>\n",
       "      <td>dropoff_longitude</td>\n",
       "      <td>-35.253750</td>\n",
       "    </tr>\n",
       "  </tbody>\n",
       "</table>\n",
       "</div>"
      ],
      "text/plain": [
       "            Variable  coffecients\n",
       "0          vendor_id     6.548839\n",
       "1    passenger_count     8.616035\n",
       "2   pickup_longitude   141.958899\n",
       "3    pickup_latitude   -81.825674\n",
       "4  dropoff_longitude   -35.253750"
      ]
     },
     "execution_count": 39,
     "metadata": {},
     "output_type": "execute_result"
    }
   ],
   "source": [
    "# Arranging coffecients with features\n",
    "\n",
    "Coffecients = pd.DataFrame({\n",
    "    'Variable' : x.columns,\n",
    "    'coffecients': lr.coef_\n",
    "})\n",
    "Coffecients.head()"
   ]
  },
  {
   "cell_type": "markdown",
   "id": "8f7fbe34",
   "metadata": {},
   "source": [
    "Filtering our data with coffecients that have their value close to zero."
   ]
  },
  {
   "cell_type": "code",
   "execution_count": 41,
   "id": "de3ad20d",
   "metadata": {},
   "outputs": [],
   "source": [
    "sig_var = Coffecients[(Coffecients.coffecients > 1) | (Coffecients.coffecients < -1)]"
   ]
  },
  {
   "cell_type": "code",
   "execution_count": 42,
   "id": "25c3cdb5",
   "metadata": {},
   "outputs": [
    {
     "data": {
      "text/html": [
       "<div>\n",
       "<style scoped>\n",
       "    .dataframe tbody tr th:only-of-type {\n",
       "        vertical-align: middle;\n",
       "    }\n",
       "\n",
       "    .dataframe tbody tr th {\n",
       "        vertical-align: top;\n",
       "    }\n",
       "\n",
       "    .dataframe thead th {\n",
       "        text-align: right;\n",
       "    }\n",
       "</style>\n",
       "<table border=\"1\" class=\"dataframe\">\n",
       "  <thead>\n",
       "    <tr style=\"text-align: right;\">\n",
       "      <th></th>\n",
       "      <th>vendor_id</th>\n",
       "      <th>passenger_count</th>\n",
       "      <th>pickup_longitude</th>\n",
       "      <th>pickup_latitude</th>\n",
       "      <th>dropoff_longitude</th>\n",
       "      <th>dropoff_latitude</th>\n",
       "      <th>weekday</th>\n",
       "      <th>hour_of_day</th>\n",
       "      <th>month</th>\n",
       "      <th>store_and_fwd_flag_N</th>\n",
       "      <th>store_and_fwd_flag_Y</th>\n",
       "    </tr>\n",
       "  </thead>\n",
       "  <tbody>\n",
       "    <tr>\n",
       "      <th>0</th>\n",
       "      <td>2</td>\n",
       "      <td>1</td>\n",
       "      <td>-73.953918</td>\n",
       "      <td>40.778873</td>\n",
       "      <td>-73.963875</td>\n",
       "      <td>40.771164</td>\n",
       "      <td>0</td>\n",
       "      <td>16</td>\n",
       "      <td>2</td>\n",
       "      <td>1</td>\n",
       "      <td>0</td>\n",
       "    </tr>\n",
       "    <tr>\n",
       "      <th>1</th>\n",
       "      <td>1</td>\n",
       "      <td>2</td>\n",
       "      <td>-73.988312</td>\n",
       "      <td>40.731743</td>\n",
       "      <td>-73.994751</td>\n",
       "      <td>40.694931</td>\n",
       "      <td>4</td>\n",
       "      <td>23</td>\n",
       "      <td>3</td>\n",
       "      <td>1</td>\n",
       "      <td>0</td>\n",
       "    </tr>\n",
       "    <tr>\n",
       "      <th>2</th>\n",
       "      <td>2</td>\n",
       "      <td>2</td>\n",
       "      <td>-73.997314</td>\n",
       "      <td>40.721458</td>\n",
       "      <td>-73.948029</td>\n",
       "      <td>40.774918</td>\n",
       "      <td>6</td>\n",
       "      <td>17</td>\n",
       "      <td>2</td>\n",
       "      <td>1</td>\n",
       "      <td>0</td>\n",
       "    </tr>\n",
       "    <tr>\n",
       "      <th>3</th>\n",
       "      <td>2</td>\n",
       "      <td>6</td>\n",
       "      <td>-73.961670</td>\n",
       "      <td>40.759720</td>\n",
       "      <td>-73.956779</td>\n",
       "      <td>40.780628</td>\n",
       "      <td>1</td>\n",
       "      <td>9</td>\n",
       "      <td>1</td>\n",
       "      <td>1</td>\n",
       "      <td>0</td>\n",
       "    </tr>\n",
       "    <tr>\n",
       "      <th>4</th>\n",
       "      <td>1</td>\n",
       "      <td>1</td>\n",
       "      <td>-74.017120</td>\n",
       "      <td>40.708469</td>\n",
       "      <td>-73.988182</td>\n",
       "      <td>40.740631</td>\n",
       "      <td>2</td>\n",
       "      <td>6</td>\n",
       "      <td>2</td>\n",
       "      <td>1</td>\n",
       "      <td>0</td>\n",
       "    </tr>\n",
       "  </tbody>\n",
       "</table>\n",
       "</div>"
      ],
      "text/plain": [
       "   vendor_id  passenger_count  pickup_longitude  pickup_latitude  \\\n",
       "0          2                1        -73.953918        40.778873   \n",
       "1          1                2        -73.988312        40.731743   \n",
       "2          2                2        -73.997314        40.721458   \n",
       "3          2                6        -73.961670        40.759720   \n",
       "4          1                1        -74.017120        40.708469   \n",
       "\n",
       "   dropoff_longitude  dropoff_latitude  weekday  hour_of_day  month  \\\n",
       "0         -73.963875         40.771164        0           16      2   \n",
       "1         -73.994751         40.694931        4           23      3   \n",
       "2         -73.948029         40.774918        6           17      2   \n",
       "3         -73.956779         40.780628        1            9      1   \n",
       "4         -73.988182         40.740631        2            6      2   \n",
       "\n",
       "   store_and_fwd_flag_N  store_and_fwd_flag_Y  \n",
       "0                     1                     0  \n",
       "1                     1                     0  \n",
       "2                     1                     0  \n",
       "3                     1                     0  \n",
       "4                     1                     0  "
      ]
     },
     "execution_count": 42,
     "metadata": {},
     "output_type": "execute_result"
    }
   ],
   "source": [
    "subset = df[sig_var['Variable'].values]\n",
    "subset.head()"
   ]
  },
  {
   "cell_type": "code",
   "execution_count": 43,
   "id": "e53210f1",
   "metadata": {},
   "outputs": [
    {
     "data": {
      "text/plain": [
       "((729287, 11), (729287,))"
      ]
     },
     "execution_count": 43,
     "metadata": {},
     "output_type": "execute_result"
    }
   ],
   "source": [
    "subset.shape , y.shape"
   ]
  },
  {
   "cell_type": "code",
   "execution_count": 44,
   "id": "8e51a612",
   "metadata": {},
   "outputs": [],
   "source": [
    "# Splitting the data into train and test set\n",
    "\n",
    "from sklearn.model_selection import train_test_split\n",
    "train_x , test_x , train_y , test_y = train_test_split(subset , y , random_state = 100)"
   ]
  },
  {
   "cell_type": "code",
   "execution_count": 45,
   "id": "b6a47007",
   "metadata": {},
   "outputs": [
    {
     "name": "stderr",
     "output_type": "stream",
     "text": [
      "C:\\Users\\amitb\\anaconda3\\lib\\site-packages\\sklearn\\linear_model\\_base.py:141: FutureWarning: 'normalize' was deprecated in version 1.0 and will be removed in 1.2.\n",
      "If you wish to scale the data, use Pipeline with a StandardScaler in a preprocessing stage. To reproduce the previous behavior:\n",
      "\n",
      "from sklearn.pipeline import make_pipeline\n",
      "\n",
      "model = make_pipeline(StandardScaler(with_mean=False), LinearRegression())\n",
      "\n",
      "If you wish to pass a sample_weight parameter, you need to pass it as a fit parameter to each step of the pipeline as follows:\n",
      "\n",
      "kwargs = {s[0] + '__sample_weight': sample_weight for s in model.steps}\n",
      "model.fit(X, y, **kwargs)\n",
      "\n",
      "\n",
      "  warnings.warn(\n"
     ]
    },
    {
     "data": {
      "text/plain": [
       "LinearRegression(normalize=True)"
      ]
     },
     "execution_count": 45,
     "metadata": {},
     "output_type": "execute_result"
    }
   ],
   "source": [
    "lr = LinearRegression(normalize = True)\n",
    "lr.fit(train_x , train_y)"
   ]
  },
  {
   "cell_type": "code",
   "execution_count": 46,
   "id": "49b777ac",
   "metadata": {},
   "outputs": [
    {
     "name": "stdout",
     "output_type": "stream",
     "text": [
      "RMSE of our current model is : 592.1103056912731\n"
     ]
    }
   ],
   "source": [
    "test_pred = lr.predict(test_x)\n",
    "k = np.sqrt(mse(test_pred , test_y))\n",
    "print('RMSE of our current model is :' , k)"
   ]
  }
 ],
 "metadata": {
  "kernelspec": {
   "display_name": "Python 3 (ipykernel)",
   "language": "python",
   "name": "python3"
  },
  "language_info": {
   "codemirror_mode": {
    "name": "ipython",
    "version": 3
   },
   "file_extension": ".py",
   "mimetype": "text/x-python",
   "name": "python",
   "nbconvert_exporter": "python",
   "pygments_lexer": "ipython3",
   "version": "3.9.12"
  }
 },
 "nbformat": 4,
 "nbformat_minor": 5
}
